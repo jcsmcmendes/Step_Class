{
  "nbformat": 4,
  "nbformat_minor": 0,
  "metadata": {
    "colab": {
      "provenance": [],
      "include_colab_link": true
    },
    "kernelspec": {
      "name": "python3",
      "display_name": "Python 3"
    },
    "language_info": {
      "name": "python"
    }
  },
  "cells": [
    {
      "cell_type": "markdown",
      "metadata": {
        "id": "view-in-github",
        "colab_type": "text"
      },
      "source": [
        "<a href=\"https://colab.research.google.com/github/jcsmcmendes/Step_Class/blob/main/Preparing_data_for_supervised_learning.ipynb\" target=\"_parent\"><img src=\"https://colab.research.google.com/assets/colab-badge.svg\" alt=\"Open In Colab\"/></a>"
      ]
    },
    {
      "cell_type": "code",
      "execution_count": 1,
      "metadata": {
        "id": "qgK1mDcp7c6T"
      },
      "outputs": [],
      "source": [
        "#Import libraries\n",
        "import pandas as pd\n",
        "import numpy as np\n",
        "from collections import Counter\n",
        "from sklearn.preprocessing import StandardScaler\n",
        "from sklearn.model_selection import train_test_split\n",
        "import matplotlib.pyplot as plt\n",
        "from imblearn.over_sampling import SMOTE\n",
        "from imblearn.over_sampling import RandomOverSampler\n",
        "from imblearn.under_sampling import RandomUnderSampler\n",
        "from sklearn.model_selection import StratifiedKFold\n",
        "from sklearn.linear_model import LogisticRegression\n",
        "from sklearn.neighbors import KNeighborsClassifier\n",
        "from sklearn.tree import DecisionTreeClassifier\n",
        "from sklearn.ensemble import RandomForestClassifier\n",
        "from xgboost import XGBClassifier\n",
        "from sklearn.metrics import classification_report, confusion_matrix, accuracy_score\n",
        "import seaborn as sns\n",
        "from sklearn.metrics import f1_score"
      ]
    },
    {
      "cell_type": "code",
      "source": [
        "#Load data and define input variables (features) from the target variable (label)\n",
        "df = pd.read_excel(\"Student_datasets.xlsx\", sheet_name=\"classification\")\n",
        "X = df[['attendance', 'assignments_completed', 'participation']]\n",
        "y = df['passed']\n",
        "print('Input variables:', X.head())\n",
        "print('Target variables:', y.head())"
      ],
      "metadata": {
        "colab": {
          "base_uri": "https://localhost:8080/"
        },
        "id": "UN-ctRnV7eZe",
        "outputId": "8bfe410a-b496-4de6-851e-8fa080418b05"
      },
      "execution_count": 2,
      "outputs": [
        {
          "output_type": "stream",
          "name": "stdout",
          "text": [
            "Input variables:    attendance  assignments_completed  participation\n",
            "0          51                      6              2\n",
            "1          92                      5              1\n",
            "2          14                      7              0\n",
            "3          71                     10              4\n",
            "4          60                      8              3\n",
            "Target variables: 0    0\n",
            "1    0\n",
            "2    0\n",
            "3    1\n",
            "4    0\n",
            "Name: passed, dtype: int64\n"
          ]
        }
      ]
    },
    {
      "cell_type": "code",
      "source": [
        "counter = Counter(y)\n",
        "print(\"Class distribution:\", counter)\n",
        "\n",
        "# Optional: Bar plot\n",
        "plt.bar(counter.keys(), counter.values())\n",
        "plt.title(\"Class distribution\")\n",
        "plt.xlabel(\"Class\")\n",
        "plt.ylabel(\"Number of samples\")\n",
        "plt.show()"
      ],
      "metadata": {
        "colab": {
          "base_uri": "https://localhost:8080/",
          "height": 490
        },
        "id": "n2FcFUp1MZFM",
        "outputId": "70d1d361-461a-444c-c369-25e365892209"
      },
      "execution_count": 3,
      "outputs": [
        {
          "output_type": "stream",
          "name": "stdout",
          "text": [
            "Class distribution: Counter({0: 176, 1: 24})\n"
          ]
        },
        {
          "output_type": "display_data",
          "data": {
            "text/plain": [
              "<Figure size 640x480 with 1 Axes>"
            ],
            "image/png": "[encoded data removed]"
          },
          "metadata": {}
        }
      ]
    },
    {
      "cell_type": "markdown",
      "source": [
        "## ⚖️ Handling Class Imbalance: Validation Options\n",
        "\n",
        "After identifying class imbalance in our dataset, we have three main strategies to evaluate our models fairly:\n",
        "\n",
        "---\n",
        "\n",
        "### 1️⃣ K-Fold Cross-Validation + Balanced Training Folds\n",
        "\n",
        "- We apply **K-Fold Cross-Validation** on the training data.\n",
        "- **Resampling techniques (e.g. SMOTE, oversampling, undersampling)** are applied **only within the training portion of each fold**.\n",
        "- The validation fold remains untouched and original.\n",
        "- ✅ Most robust and widely accepted approach.\n",
        "\n",
        "---\n",
        "\n",
        "### 2️⃣ Repeated Random Train/Test Splits + Balanced Training Sets\n",
        "\n",
        "- We randomly split the data into training and test sets **multiple times** (e.g. 5 repetitions).\n",
        "- In each repetition, the training set is **balanced**, and evaluation is done on the untouched test set.\n",
        "- ✅ Useful when K-Fold is not ideal, or for simpler pipelines.\n",
        "\n",
        "---\n",
        "\n",
        "### 3️⃣ Single Train/Test Split + One-Time Resampling\n",
        "\n",
        "- We split the data once into training and test sets.\n",
        "- Apply resampling only to the training set.\n",
        "- The test set is used for final evaluation.\n",
        "- ❗ Less robust — results may vary depending on the random split.\n",
        "\n",
        "---\n",
        "\n",
        "> 💡 Choosing the right approach depends on the context, dataset size, and the goal of your analysis.\n"
      ],
      "metadata": {
        "id": "bmqbLYMryVZ3"
      }
    },
    {
      "cell_type": "markdown",
      "source": [
        "## 1️⃣ K-Fold Cross-Validation + Balanced Training Folds"
      ],
      "metadata": {
        "id": "jYY6icyrzNWJ"
      }
    },
    {
      "cell_type": "code",
      "source": [
        "# 🔁 Modelo base\n",
        "model = LogisticRegression()\n",
        "\n",
        "### 1️⃣ K-Fold Cross-Validation + SMOTE\n",
        "skf = StratifiedKFold(n_splits=5, shuffle=True, random_state=42)\n",
        "f1_scores_kfold = []\n",
        "acc_scores_kfold = []\n",
        "\n",
        "for train_idx, val_idx in skf.split(X, y):\n",
        "    X_train, X_val = X.iloc[train_idx], X.iloc[val_idx]\n",
        "    y_train, y_val = y.iloc[train_idx], y.iloc[val_idx]\n",
        "\n",
        "    scaler = StandardScaler()\n",
        "    X_train_scaled = scaler.fit_transform(X_train)\n",
        "    X_val_scaled = scaler.transform(X_val)\n",
        "\n",
        "    X_train_smote, y_train_smote = SMOTE(random_state=42).fit_resample(X_train_scaled, y_train)\n",
        "\n",
        "    model.fit(X_train_smote, y_train_smote)\n",
        "    preds = model.predict(X_val_scaled)\n",
        "\n",
        "    f1_scores_kfold.append(f1_score(y_val, preds, average='macro'))\n",
        "    acc_scores_kfold.append(accuracy_score(y_val, preds))\n",
        "\n",
        "mean_kfold_f1 = np.mean(f1_scores_kfold)\n",
        "mean_kfold_acc = np.mean(acc_scores_kfold)\n",
        "\n",
        "### 2️⃣ Repeated Random Holdout + SMOTE\n",
        "f1_scores_repeated = []\n",
        "acc_scores_repeated = []\n",
        "\n",
        "for seed in range(5):\n",
        "    X_train, X_test, y_train, y_test = train_test_split(X, y, stratify=y, test_size=0.2, random_state=seed)\n",
        "\n",
        "    scaler = StandardScaler()\n",
        "    X_train_scaled = scaler.fit_transform(X_train)\n",
        "    X_test_scaled = scaler.transform(X_test)\n",
        "\n",
        "    X_train_smote, y_train_smote = SMOTE(random_state=42).fit_resample(X_train_scaled, y_train)\n",
        "\n",
        "    model.fit(X_train_smote, y_train_smote)\n",
        "    preds = model.predict(X_test_scaled)\n",
        "\n",
        "    f1_scores_repeated.append(f1_score(y_test, preds, average='macro'))\n",
        "    acc_scores_repeated.append(accuracy_score(y_test, preds))\n",
        "\n",
        "mean_repeated_f1 = np.mean(f1_scores_repeated)\n",
        "mean_repeated_acc = np.mean(acc_scores_repeated)\n",
        "\n",
        "### 3️⃣ Single Split + SMOTE\n",
        "X_train, X_test, y_train, y_test = train_test_split(X, y, stratify=y, test_size=0.2, random_state=42)\n",
        "scaler = StandardScaler()\n",
        "X_train_scaled = scaler.fit_transform(X_train)\n",
        "X_test_scaled = scaler.transform(X_test)\n",
        "\n",
        "X_train_smote, y_train_smote = SMOTE(random_state=42).fit_resample(X_train_scaled, y_train)\n",
        "\n",
        "model.fit(X_train_smote, y_train_smote)\n",
        "preds = model.predict(X_test_scaled)\n",
        "\n",
        "f1_single = f1_score(y_test, preds, average='macro')\n",
        "acc_single = accuracy_score(y_test, preds)\n",
        "\n",
        "# 📊 Resultados finais\n",
        "print(\"📈 Performance Comparison (Macro F1 and Accuracy):\\n\")\n",
        "print(f\"1️⃣ K-Fold:        F1 = {round(mean_kfold_f1, 3)}, Accuracy = {round(mean_kfold_acc, 3)}\")\n",
        "print(f\"2️⃣ Repeated Split: F1 = {round(mean_repeated_f1, 3)}, Accuracy = {round(mean_repeated_acc, 3)}\")\n",
        "print(f\"3️⃣ Single Split:   F1 = {round(f1_single, 3)}, Accuracy = {round(acc_single, 3)}\")"
      ],
      "metadata": {
        "id": "w8X0McjoyUsv",
        "outputId": "e6c5c42f-4d0a-45ec-9826-efa50d7a8019",
        "colab": {
          "base_uri": "https://localhost:8080/"
        }
      },
      "execution_count": 4,
      "outputs": [
        {
          "output_type": "stream",
          "name": "stdout",
          "text": [
            "📈 Performance Comparison (Macro F1 and Accuracy):\n",
            "\n",
            "1️⃣ K-Fold:        F1 = 0.744, Accuracy = 0.875\n",
            "2️⃣ Repeated Split: F1 = 0.758, Accuracy = 0.855\n",
            "3️⃣ Single Split:   F1 = 0.771, Accuracy = 0.9\n"
          ]
        }
      ]
    },
    {
      "cell_type": "markdown",
      "source": [
        "## 🔁 Testing different Models to do the classification"
      ],
      "metadata": {
        "id": "AYP2AfZTkNDj"
      }
    },
    {
      "cell_type": "code",
      "source": [
        "# 🔁 Define models\n",
        "models = {\n",
        "    'Logistic Regression': LogisticRegression(),\n",
        "    'KNN': KNeighborsClassifier(n_neighbors=5),\n",
        "    'Decision Tree': DecisionTreeClassifier(max_depth=4, random_state=42),\n",
        "    'Random Forest': RandomForestClassifier(n_estimators=100, random_state=42),\n",
        "    'XGBoost': XGBClassifier(eval_metric='logloss', random_state=42)\n",
        "}\n",
        "\n",
        "# 📊 Store results\n",
        "results = []\n",
        "\n",
        "# 🧪 Loop through each model\n",
        "for model_name, model in models.items():\n",
        "\n",
        "    # 1️⃣ K-Fold CV + SMOTE\n",
        "    skf = StratifiedKFold(n_splits=5, shuffle=True, random_state=42)\n",
        "    f1_kfold, acc_kfold = [], []\n",
        "\n",
        "    for train_idx, val_idx in skf.split(X, y):\n",
        "        X_train, X_val = X.iloc[train_idx], X.iloc[val_idx]\n",
        "        y_train, y_val = y.iloc[train_idx], y.iloc[val_idx]\n",
        "\n",
        "        scaler = StandardScaler()\n",
        "        X_train_scaled = scaler.fit_transform(X_train)\n",
        "        X_val_scaled = scaler.transform(X_val)\n",
        "\n",
        "        X_train_res, y_train_res = SMOTE(random_state=42).fit_resample(X_train_scaled, y_train)\n",
        "\n",
        "        model.fit(X_train_res, y_train_res)\n",
        "        preds = model.predict(X_val_scaled)\n",
        "\n",
        "        f1_kfold.append(f1_score(y_val, preds, average='macro'))\n",
        "        acc_kfold.append(accuracy_score(y_val, preds))\n",
        "\n",
        "    # 2️⃣ Repeated Holdout (5 splits)\n",
        "    f1_rep, acc_rep = [], []\n",
        "\n",
        "    for seed in range(5):\n",
        "        X_train, X_test, y_train, y_test = train_test_split(X, y, stratify=y, test_size=0.2, random_state=seed)\n",
        "\n",
        "        scaler = StandardScaler()\n",
        "        X_train_scaled = scaler.fit_transform(X_train)\n",
        "        X_test_scaled = scaler.transform(X_test)\n",
        "\n",
        "        X_train_res, y_train_res = SMOTE(random_state=42).fit_resample(X_train_scaled, y_train)\n",
        "\n",
        "        model.fit(X_train_res, y_train_res)\n",
        "        preds = model.predict(X_test_scaled)\n",
        "\n",
        "        f1_rep.append(f1_score(y_test, preds, average='macro'))\n",
        "        acc_rep.append(accuracy_score(y_test, preds))\n",
        "\n",
        "    # 3️⃣ Single Split\n",
        "    X_train, X_test, y_train, y_test = train_test_split(X, y, stratify=y, test_size=0.2, random_state=42)\n",
        "    scaler = StandardScaler()\n",
        "    X_train_scaled = scaler.fit_transform(X_train)\n",
        "    X_test_scaled = scaler.transform(X_test)\n",
        "\n",
        "    X_train_res, y_train_res = SMOTE(random_state=42).fit_resample(X_train_scaled, y_train)\n",
        "\n",
        "    model.fit(X_train_res, y_train_res)\n",
        "    preds = model.predict(X_test_scaled)\n",
        "\n",
        "    f1_single = f1_score(y_test, preds, average='macro')\n",
        "    acc_single = accuracy_score(y_test, preds)\n",
        "\n",
        "    # 📥 Store results\n",
        "    results.append({\n",
        "        'Model': model_name,\n",
        "        'F1 KFold': round(np.mean(f1_kfold), 3),\n",
        "        'Acc KFold': round(np.mean(acc_kfold), 3),\n",
        "        'F1 Repeated': round(np.mean(f1_rep), 3),\n",
        "        'Acc Repeated': round(np.mean(acc_rep), 3),\n",
        "        'F1 Single': round(f1_single, 3),\n",
        "        'Acc Single': round(acc_single, 3)\n",
        "    })\n",
        "results_df = pd.DataFrame(results)\n",
        "mean_row = results_df.select_dtypes(include=np.number).mean().round(3)\n",
        "std_row = results_df.select_dtypes(include=np.number).std().round(3)\n",
        "mean_row['Model'] = 'Mean'\n",
        "std_row['Model'] = 'Std'\n",
        "\n",
        "cols = ['Model'] + [col for col in results_df.columns if col != 'Model']\n",
        "results_df = pd.concat([results_df, mean_row.to_frame().T, std_row.to_frame().T], ignore_index=True)[cols]\n",
        "\n",
        "\n",
        "print(results_df)\n"
      ],
      "metadata": {
        "id": "4IhHRyMdqYn6",
        "outputId": "d33d81cb-e953-4976-f372-1415a4b04cee",
        "colab": {
          "base_uri": "https://localhost:8080/"
        }
      },
      "execution_count": 8,
      "outputs": [
        {
          "output_type": "stream",
          "name": "stdout",
          "text": [
            "                 Model F1 KFold Acc KFold F1 Repeated Acc Repeated F1 Single  \\\n",
            "0  Logistic Regression    0.744     0.875       0.758        0.855     0.771   \n",
            "1                  KNN    0.748     0.855       0.776         0.88     0.687   \n",
            "2        Decision Tree    0.751     0.895       0.775        0.875     0.722   \n",
            "3        Random Forest    0.778      0.91       0.824         0.93     0.687   \n",
            "4              XGBoost    0.767      0.91       0.758        0.915     0.722   \n",
            "5                 Mean    0.758     0.889       0.778        0.891     0.718   \n",
            "6                  Std    0.014     0.024       0.027        0.031     0.035   \n",
            "\n",
            "  Acc Single  \n",
            "0        0.9  \n",
            "1      0.875  \n",
            "2        0.9  \n",
            "3      0.875  \n",
            "4        0.9  \n",
            "5       0.89  \n",
            "6      0.014  \n"
          ]
        }
      ]
    },
    {
      "cell_type": "code",
      "source": [],
      "metadata": {
        "id": "pVXevQ_gvNfp"
      },
      "execution_count": null,
      "outputs": []
    }
  ]
}