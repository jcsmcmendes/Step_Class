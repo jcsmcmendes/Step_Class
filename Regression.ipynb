{
  "nbformat": 4,
  "nbformat_minor": 0,
  "metadata": {
    "colab": {
      "provenance": [],
      "include_colab_link": true
    },
    "kernelspec": {
      "name": "python3",
      "display_name": "Python 3"
    },
    "language_info": {
      "name": "python"
    }
  },
  "cells": [
    {
      "cell_type": "markdown",
      "metadata": {
        "id": "view-in-github",
        "colab_type": "text"
      },
      "source": [
        "<a href=\"https://colab.research.google.com/github/jcsmcmendes/Step_Class/blob/main/Regression.ipynb\" target=\"_parent\"><img src=\"https://colab.research.google.com/assets/colab-badge.svg\" alt=\"Open In Colab\"/></a>"
      ]
    },
    {
      "cell_type": "markdown",
      "source": [
        "# 📘 Regression – Model Evaluation Overview\n",
        "\n",
        "This notebook explores different regression models and validation strategies for predicting final grades from student features.\n"
      ],
      "metadata": {
        "id": "7-NXDrzIHWTr"
      }
    },
    {
      "cell_type": "code",
      "execution_count": 16,
      "metadata": {
        "id": "DwhSacQBQNJI"
      },
      "outputs": [],
      "source": [
        "# Import the necessary libraries\n",
        "import pandas as pd\n",
        "import numpy as np\n",
        "from sklearn.model_selection import KFold, train_test_split\n",
        "from sklearn.preprocessing import StandardScaler\n",
        "from sklearn.linear_model import LinearRegression\n",
        "from sklearn.neighbors import KNeighborsRegressor\n",
        "from sklearn.tree import DecisionTreeRegressor\n",
        "from sklearn.ensemble import RandomForestRegressor\n",
        "from xgboost import XGBRegressor\n",
        "from sklearn.metrics import mean_absolute_error, mean_absolute_percentage_error, mean_squared_error\n",
        "import matplotlib.pyplot as plt\n",
        "import seaborn as sns\n"
      ]
    },
    {
      "cell_type": "markdown",
      "source": [
        "# 📥 1. Load and Define Regression Models"
      ],
      "metadata": {
        "id": "kJlA763AHaZ7"
      }
    },
    {
      "cell_type": "code",
      "source": [
        "# Load regression dataset\n",
        "df = pd.read_excel(\"Student_datasets.xlsx\", sheet_name=\"regression\")\n",
        "X = df[['attendance', 'assignments_completed', 'participation']]\n",
        "y = df['final_grade']\n",
        "\n",
        "\n",
        "# Define regression models\n",
        "models = {\n",
        "    'Linear Regression': LinearRegression(),\n",
        "    'K-Nearest Neighbors': KNeighborsRegressor(n_neighbors=5),\n",
        "    'Decision Tree': DecisionTreeRegressor(max_depth=4, random_state=42),\n",
        "    'Random Forest': RandomForestRegressor(n_estimators=100, max_depth=6, random_state=42),\n",
        "    'XGBoost': XGBRegressor(n_estimators=100, max_depth=4, random_state=42)\n",
        "}"
      ],
      "metadata": {
        "id": "Yvg89hX8QX3D"
      },
      "execution_count": 17,
      "outputs": []
    },
    {
      "cell_type": "markdown",
      "source": [
        "# 📊 3. Single Train/Test Split\n",
        "\n",
        "In this section, we evaluate all models using a single 80/20 split of the dataset.\n",
        "\n",
        "Advantages:\n",
        "- Simple to implement\n",
        "- Fast for a quick estimate\n",
        "\n",
        "Limitations:\n",
        "- High variance depending on the split\n",
        "\n",
        "Metrics used:\n",
        "- MAE (Mean Absolute Error)\n",
        "- MAPE (Mean Absolute Percentage Error)\n",
        "- RMSE (Root Mean Squared Error)"
      ],
      "metadata": {
        "id": "u8vawSJpHkQn"
      }
    },
    {
      "cell_type": "code",
      "source": [
        "# Store results\n",
        "results_single = []\n",
        "\n",
        "# Loop through each model\n",
        "for name, model in models.items():\n",
        "    # Single split\n",
        "    X_train, X_test, y_train, y_test = train_test_split(X, y, test_size=0.2, random_state=42)\n",
        "\n",
        "    # Feature scaling\n",
        "    scaler = StandardScaler()\n",
        "    X_train_scaled = scaler.fit_transform(X_train)\n",
        "    X_test_scaled = scaler.transform(X_test)\n",
        "\n",
        "    # Train the model\n",
        "    model.fit(X_train_scaled, y_train)\n",
        "\n",
        "    # Predict\n",
        "    preds = model.predict(X_test_scaled)\n",
        "\n",
        "    # Evaluate metrics\n",
        "    mae = mean_absolute_error(y_test, preds)\n",
        "    mape = mean_absolute_percentage_error(y_test, preds)\n",
        "    mse = mean_squared_error(y_test, preds)\n",
        "    rmse = np.sqrt(mse)\n",
        "\n",
        "    results_single.append({\n",
        "        'Model': name,\n",
        "        'MAE': round(mae, 3),\n",
        "        'MAPE': round(mape, 3),\n",
        "        'RMSE': round(rmse, 3)\n",
        "    })\n",
        "\n",
        "\n",
        "# Show results\n",
        "results_df_single = pd.DataFrame(results_single)\n",
        "print(\"\\n📊 Regression Metrics (Single Train/Test Split):\")\n",
        "print(results_df_single)"
      ],
      "metadata": {
        "id": "mrs9wsSyGxMc",
        "outputId": "36aba182-d258-4af2-dc02-0a12ccf5867f",
        "colab": {
          "base_uri": "https://localhost:8080/"
        }
      },
      "execution_count": 18,
      "outputs": [
        {
          "output_type": "stream",
          "name": "stdout",
          "text": [
            "\n",
            "📊 Regression Metrics (Single Train/Test Split):\n",
            "                 Model    MAE   MAPE   RMSE\n",
            "0    Linear Regression  2.129  0.067  2.634\n",
            "1  K-Nearest Neighbors  3.384  0.104  4.234\n",
            "2        Decision Tree  4.954  0.153  6.384\n",
            "3        Random Forest  3.641  0.110  4.352\n",
            "4              XGBoost  3.735  0.115  4.611\n"
          ]
        }
      ]
    },
    {
      "cell_type": "markdown",
      "source": [
        "# 🔁 4. K-Fold Cross-Validation\n",
        "\n",
        "Here, we use 5-fold cross-validation to evaluate model performance more robustly.\n",
        "\n",
        "Advantages:\n",
        "- Each data point is used in both training and validation\n",
        "- Reduces variance in evaluation\n",
        "\n",
        "We aggregate predictions across all folds and compute the same metrics (MAE, MAPE, RMSE).\n"
      ],
      "metadata": {
        "id": "yPBK4LGoHnV-"
      }
    },
    {
      "cell_type": "code",
      "source": [
        "# Perform K-Fold Cross-Validation and calculate global metrics\n",
        "kf = KFold(n_splits=5, shuffle=True, random_state=42)\n",
        "\n",
        "# Store results for each model\n",
        "results = []\n",
        "\n",
        "# Feature scaling\n",
        "scaler = StandardScaler()\n",
        "X_scaled = scaler.fit_transform(X)\n",
        "\n",
        "# Evaluate each model using aggregated predictions over K-Folds\n",
        "for name, model in models.items():\n",
        "    all_preds = []\n",
        "    all_true = []\n",
        "\n",
        "    for train_idx, val_idx in kf.split(X_scaled):\n",
        "        X_train, X_val = X_scaled[train_idx], X_scaled[val_idx]\n",
        "        y_train, y_val = y.iloc[train_idx], y.iloc[val_idx]\n",
        "\n",
        "        model.fit(X_train, y_train)  # Train the model\n",
        "        preds = model.predict(X_val)  # Predict on validation set\n",
        "\n",
        "        all_preds.extend(preds)       # Store predictions\n",
        "        all_true.extend(y_val)        # Store actual values\n",
        "\n",
        "    # Compute global regression metrics across all folds\n",
        "    mae = mean_absolute_error(all_true, all_preds)\n",
        "    mape = mean_absolute_percentage_error(all_true, all_preds)\n",
        "    mse = mean_squared_error(all_true, all_preds)\n",
        "    rmse = np.sqrt(mse)\n",
        "\n",
        "    # Store metrics\n",
        "    results.append({\n",
        "        'Model': name,\n",
        "        'MAE': round(mae, 3),\n",
        "        'MAPE': round(mape, 3),\n",
        "        'RMSE': round(rmse, 3)\n",
        "    })\n",
        "\n",
        "# 🧾 Display final results for all models\n",
        "results_df = pd.DataFrame(results)\n",
        "print(\" Aggregated K-Fold Regression Metrics for All Models:\")\n",
        "print(results_df)"
      ],
      "metadata": {
        "colab": {
          "base_uri": "https://localhost:8080/"
        },
        "id": "NUKnRqc-QYvg",
        "outputId": "afd66a01-6bb9-4a86-d949-9d8601ee4025"
      },
      "execution_count": 19,
      "outputs": [
        {
          "output_type": "stream",
          "name": "stdout",
          "text": [
            " Aggregated K-Fold Regression Metrics for All Models:\n",
            "                 Model    MAE   MAPE   RMSE\n",
            "0    Linear Regression  2.574  0.094  3.248\n",
            "1  K-Nearest Neighbors  3.360  0.130  4.235\n",
            "2        Decision Tree  5.447  0.204  6.905\n",
            "3        Random Forest  3.560  0.138  4.460\n",
            "4              XGBoost  3.663  0.138  4.584\n"
          ]
        }
      ]
    },
    {
      "cell_type": "markdown",
      "source": [
        "🔁 5. Repeated Holdout Validation\n",
        "\n",
        "We repeat the train/test split 5 times using different random seeds.\n",
        "\n",
        "Advantages:\n",
        "- Simulates model performance on multiple random train/test partitions\n",
        "- Balances simplicity with some robustness\n",
        "\n",
        "Same metrics (MAE, MAPE, RMSE) are calculated on aggregated predictions."
      ],
      "metadata": {
        "id": "bQJ7n88nHwPj"
      }
    },
    {
      "cell_type": "code",
      "source": [
        "# Repeated Holdout Validation\n",
        "\n",
        "# Define number of repeated splits\n",
        "n_repeats = 5\n",
        "results = []\n",
        "\n",
        "#  Loop through each model\n",
        "for name, model in models.items():\n",
        "    all_preds = []\n",
        "    all_true = []\n",
        "\n",
        "    for seed in range(n_repeats):\n",
        "        # Random train/test split with different seed each time\n",
        "        X_train, X_test, y_train, y_test = train_test_split(X, y, test_size=0.2, random_state=seed)\n",
        "\n",
        "        # Standardize features\n",
        "        scaler = StandardScaler()\n",
        "        X_train_scaled = scaler.fit_transform(X_train)\n",
        "        X_test_scaled = scaler.transform(X_test)\n",
        "\n",
        "        # Train and predict\n",
        "        model.fit(X_train_scaled, y_train)\n",
        "        preds = model.predict(X_test_scaled)\n",
        "\n",
        "        # Collect predictions and true values for global evaluation\n",
        "        all_preds.extend(preds)\n",
        "        all_true.extend(y_test)\n",
        "\n",
        "    #  Calculate regression metrics over all 5 repetitions\n",
        "    mae = mean_absolute_error(all_true, all_preds)\n",
        "    mape = mean_absolute_percentage_error(all_true, all_preds)\n",
        "    mse = mean_squared_error(all_true, all_preds)\n",
        "    rmse = np.sqrt(mse)\n",
        "\n",
        "    # Save results\n",
        "    results.append({\n",
        "        'Model': name,\n",
        "        'MAE': round(mae, 3),\n",
        "        'MAPE': round(mape, 3),\n",
        "        'RMSE': round(rmse, 3)\n",
        "    })\n",
        "\n",
        "# 🧾 Display all results\n",
        "results_df_repeated = pd.DataFrame(results)\n",
        "print(\"\\n📊 Aggregated Metrics for All Models (Repeated Holdout):\")\n",
        "print(results_df_repeated)"
      ],
      "metadata": {
        "colab": {
          "base_uri": "https://localhost:8080/"
        },
        "id": "SrfkuiTDQb13",
        "outputId": "b46e0174-f9e6-4c52-e69d-0b93b553e2c8"
      },
      "execution_count": 20,
      "outputs": [
        {
          "output_type": "stream",
          "name": "stdout",
          "text": [
            "\n",
            "📊 Aggregated Metrics for All Models (Repeated Holdout):\n",
            "                 Model    MAE   MAPE   RMSE\n",
            "0    Linear Regression  2.440  0.088  3.094\n",
            "1  K-Nearest Neighbors  3.280  0.125  4.185\n",
            "2        Decision Tree  5.867  0.202  7.136\n",
            "3        Random Forest  3.587  0.130  4.617\n",
            "4              XGBoost  3.606  0.128  4.531\n"
          ]
        }
      ]
    }
  ]
}