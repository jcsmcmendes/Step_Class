{
  "nbformat": 4,
  "nbformat_minor": 0,
  "metadata": {
    "colab": {
      "provenance": [],
      "authorship_tag": "ABX9TyNbbSTDdf0iiOiJYE1IPHkH",
      "include_colab_link": true
    },
    "kernelspec": {
      "name": "python3",
      "display_name": "Python 3"
    },
    "language_info": {
      "name": "python"
    }
  },
  "cells": [
    {
      "cell_type": "markdown",
      "metadata": {
        "id": "view-in-github",
        "colab_type": "text"
      },
      "source": [
        "<a href=\"https://colab.research.google.com/github/jcsmcmendes/Step_Class/blob/main/Regression.ipynb\" target=\"_parent\"><img src=\"https://colab.research.google.com/assets/colab-badge.svg\" alt=\"Open In Colab\"/></a>"
      ]
    },
    {
      "cell_type": "code",
      "execution_count": 1,
      "metadata": {
        "id": "DwhSacQBQNJI"
      },
      "outputs": [],
      "source": [
        "# Import the necessary libraries\n",
        "import pandas as pd\n",
        "import numpy as np\n",
        "from sklearn.model_selection import KFold, train_test_split\n",
        "from sklearn.preprocessing import StandardScaler\n",
        "from sklearn.linear_model import LinearRegression\n",
        "from sklearn.neighbors import KNeighborsRegressor\n",
        "from sklearn.tree import DecisionTreeRegressor\n",
        "from sklearn.ensemble import RandomForestRegressor\n",
        "from xgboost import XGBRegressor\n",
        "from sklearn.metrics import mean_squared_error, r2_score"
      ]
    },
    {
      "cell_type": "code",
      "source": [
        "# Load regression dataset\n",
        "df = pd.read_excel(\"student_datasets_balanced.xlsx\", sheet_name=\"regression\")\n",
        "X = df[['attendance', 'assignments_completed', 'participation']]\n",
        "y = df['final_grade']\n",
        "\n",
        "# Scale features\n",
        "scaler = StandardScaler()\n",
        "X_scaled = scaler.fit_transform(X)\n",
        "\n",
        "# Define regression models\n",
        "models = {\n",
        "    'Linear Regression': LinearRegression(),\n",
        "    'K-Nearest Neighbors': KNeighborsRegressor(n_neighbors=5),\n",
        "    'Decision Tree': DecisionTreeRegressor(max_depth=4, random_state=42),\n",
        "    'Random Forest': RandomForestRegressor(n_estimators=100, max_depth=6, random_state=42),\n",
        "    'XGBoost': XGBRegressor(n_estimators=100, max_depth=4, random_state=42)\n",
        "}"
      ],
      "metadata": {
        "id": "Yvg89hX8QX3D"
      },
      "execution_count": 2,
      "outputs": []
    },
    {
      "cell_type": "code",
      "source": [
        "# K-Fold Cross-Validation\n",
        "kf = KFold(n_splits=5, shuffle=True, random_state=42)\n",
        "results_kfold = {name: [] for name in models}\n",
        "\n",
        "for name, model in models.items():\n",
        "    for train_idx, val_idx in kf.split(X_scaled):\n",
        "        X_train, X_val = X_scaled[train_idx], X_scaled[val_idx]\n",
        "        y_train, y_val = y.iloc[train_idx], y.iloc[val_idx]\n",
        "\n",
        "        model.fit(X_train, y_train)\n",
        "        preds = model.predict(X_val)\n",
        "        mse = mean_squared_error(y_val, preds)\n",
        "        results_kfold[name].append(mse)\n",
        "\n",
        "# Display K-Fold results\n",
        "results_df_kfold = pd.DataFrame(results_kfold)\n",
        "results_df_kfold.loc['Mean'] = results_df_kfold.mean()\n",
        "results_df_kfold.loc['Std'] = results_df_kfold.std()\n",
        "print(\"\\n📊 Mean Squared Error per fold (K-Fold):\")\n",
        "print(results_df_kfold.round(2))"
      ],
      "metadata": {
        "colab": {
          "base_uri": "https://localhost:8080/"
        },
        "id": "NUKnRqc-QYvg",
        "outputId": "0930a85e-dc1f-4cb4-de4f-d27af8fe53c7"
      },
      "execution_count": 3,
      "outputs": [
        {
          "output_type": "stream",
          "name": "stdout",
          "text": [
            "\n",
            "📊 Mean Squared Error per fold (K-Fold):\n",
            "      Linear Regression  K-Nearest Neighbors  Decision Tree  Random Forest  \\\n",
            "0                  6.94                17.47          40.76          18.38   \n",
            "1                 15.91                21.99          56.35          29.86   \n",
            "2                  9.92                21.53          37.52          19.50   \n",
            "3                 10.65                19.43          48.18          20.14   \n",
            "4                  9.32                 9.26          55.58          11.60   \n",
            "Mean              10.55                17.93          47.68          19.89   \n",
            "Std                2.96                 4.63           7.60           5.84   \n",
            "\n",
            "      XGBoost  \n",
            "0       21.26  \n",
            "1       27.47  \n",
            "2       17.57  \n",
            "3       25.38  \n",
            "4       13.40  \n",
            "Mean    21.02  \n",
            "Std      5.11  \n"
          ]
        }
      ]
    },
    {
      "cell_type": "code",
      "source": [
        "# Repeated Holdout Validation\n",
        "n_repeats = 5\n",
        "results_holdout = {name: [] for name in models}\n",
        "\n",
        "for seed in range(n_repeats):\n",
        "    X_train, X_test, y_train, y_test = train_test_split(X, y, test_size=0.2, random_state=seed)\n",
        "    scaler = StandardScaler()\n",
        "    X_train_scaled = scaler.fit_transform(X_train)\n",
        "    X_test_scaled = scaler.transform(X_test)\n",
        "\n",
        "    for name, model in models.items():\n",
        "        model.fit(X_train_scaled, y_train)\n",
        "        preds = model.predict(X_test_scaled)\n",
        "        mse = mean_squared_error(y_test, preds)\n",
        "        results_holdout[name].append(mse)\n",
        "\n",
        "# Display Repeated Holdout results\n",
        "results_df_holdout = pd.DataFrame(results_holdout)\n",
        "results_df_holdout.loc['Mean'] = results_df_holdout.mean()\n",
        "results_df_holdout.loc['Std'] = results_df_holdout.std()\n",
        "print(\"\\n📊 Mean Squared Error per repetition (Repeated Holdout):\")\n",
        "print(results_df_holdout.round(2))\n"
      ],
      "metadata": {
        "colab": {
          "base_uri": "https://localhost:8080/"
        },
        "id": "SrfkuiTDQb13",
        "outputId": "21d75018-3922-404c-bcc4-ce6c5f6b1f01"
      },
      "execution_count": 4,
      "outputs": [
        {
          "output_type": "stream",
          "name": "stdout",
          "text": [
            "\n",
            "📊 Mean Squared Error per repetition (Repeated Holdout):\n",
            "      Linear Regression  K-Nearest Neighbors  Decision Tree  Random Forest  \\\n",
            "0                  7.81                14.59          49.53          18.52   \n",
            "1                 11.86                17.28          47.16          26.24   \n",
            "2                 10.09                22.73          59.80          24.15   \n",
            "3                 11.46                24.31          63.67          25.01   \n",
            "4                  6.64                 8.67          34.44          12.68   \n",
            "Mean               9.57                17.52          50.92          21.32   \n",
            "Std                2.04                 5.66          10.29           5.06   \n",
            "\n",
            "      XGBoost  \n",
            "0       16.67  \n",
            "1       25.03  \n",
            "2       22.83  \n",
            "3       23.87  \n",
            "4       14.24  \n",
            "Mean    20.53  \n",
            "Std      4.27  \n"
          ]
        }
      ]
    }
  ]
}